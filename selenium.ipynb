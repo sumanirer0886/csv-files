{
 "cells": [
  {
   "cell_type": "code",
   "execution_count": 43,
   "id": "4d039be7",
   "metadata": {},
   "outputs": [
    {
     "name": "stdout",
     "output_type": "stream",
     "text": [
      "Requirement already satisfied: selenium in c:\\users\\lenovo\\anaconda3\\lib\\site-packages (4.7.2)\n",
      "Requirement already satisfied: certifi>=2021.10.8 in c:\\users\\lenovo\\anaconda3\\lib\\site-packages (from selenium) (2021.10.8)\n",
      "Requirement already satisfied: trio~=0.17 in c:\\users\\lenovo\\anaconda3\\lib\\site-packages (from selenium) (0.22.0)\n",
      "Requirement already satisfied: urllib3[socks]~=1.26 in c:\\users\\lenovo\\anaconda3\\lib\\site-packages (from selenium) (1.26.9)\n",
      "Requirement already satisfied: trio-websocket~=0.9 in c:\\users\\lenovo\\anaconda3\\lib\\site-packages (from selenium) (0.9.2)\n",
      "Requirement already satisfied: sortedcontainers in c:\\users\\lenovo\\anaconda3\\lib\\site-packages (from trio~=0.17->selenium) (2.4.0)\n",
      "Requirement already satisfied: sniffio in c:\\users\\lenovo\\anaconda3\\lib\\site-packages (from trio~=0.17->selenium) (1.2.0)\n",
      "Requirement already satisfied: idna in c:\\users\\lenovo\\anaconda3\\lib\\site-packages (from trio~=0.17->selenium) (3.3)\n",
      "Requirement already satisfied: attrs>=19.2.0 in c:\\users\\lenovo\\anaconda3\\lib\\site-packages (from trio~=0.17->selenium) (21.4.0)\n",
      "Requirement already satisfied: outcome in c:\\users\\lenovo\\anaconda3\\lib\\site-packages (from trio~=0.17->selenium) (1.2.0)\n",
      "Requirement already satisfied: exceptiongroup>=1.0.0rc9 in c:\\users\\lenovo\\anaconda3\\lib\\site-packages (from trio~=0.17->selenium) (1.1.0)\n",
      "Requirement already satisfied: async-generator>=1.9 in c:\\users\\lenovo\\anaconda3\\lib\\site-packages (from trio~=0.17->selenium) (1.10)\n",
      "Requirement already satisfied: cffi>=1.14 in c:\\users\\lenovo\\anaconda3\\lib\\site-packages (from trio~=0.17->selenium) (1.15.0)\n",
      "Requirement already satisfied: pycparser in c:\\users\\lenovo\\anaconda3\\lib\\site-packages (from cffi>=1.14->trio~=0.17->selenium) (2.21)\n",
      "Requirement already satisfied: wsproto>=0.14 in c:\\users\\lenovo\\anaconda3\\lib\\site-packages (from trio-websocket~=0.9->selenium) (1.2.0)\n",
      "Requirement already satisfied: PySocks!=1.5.7,<2.0,>=1.5.6 in c:\\users\\lenovo\\anaconda3\\lib\\site-packages (from urllib3[socks]~=1.26->selenium) (1.7.1)\n",
      "Requirement already satisfied: h11<1,>=0.9.0 in c:\\users\\lenovo\\anaconda3\\lib\\site-packages (from wsproto>=0.14->trio-websocket~=0.9->selenium) (0.14.0)\n"
     ]
    }
   ],
   "source": [
    "!pip install selenium"
   ]
  },
  {
   "cell_type": "code",
   "execution_count": 44,
   "id": "ed93e963",
   "metadata": {},
   "outputs": [],
   "source": [
    "import selenium\n",
    "import pandas as pd\n",
    "from selenium import webdriver\n",
    "import warnings\n",
    "warnings.filterwarnings('ignore')\n",
    "from selenium.common.exceptions import StaleElementReferenceException, NoSuchElementException\n",
    "from selenium.webdriver.common.by import By\n",
    "import time"
   ]
  },
  {
   "cell_type": "code",
   "execution_count": 45,
   "id": "74b5029b",
   "metadata": {},
   "outputs": [],
   "source": [
    "driver=webdriver.Chrome(r\"C:\\Users\\LENOVO\\Desktop\\Data\\chromedriver.exe\")"
   ]
  },
  {
   "cell_type": "code",
   "execution_count": 46,
   "id": "6c6afff7",
   "metadata": {},
   "outputs": [],
   "source": [
    "driver.get(\"https://www.naukri.com/\")"
   ]
  },
  {
   "cell_type": "code",
   "execution_count": 47,
   "id": "93e7fdde",
   "metadata": {},
   "outputs": [],
   "source": [
    "dg=driver.find_element(By.XPATH,\"/html/body/div[1]/div[6]/div/div/div[1]/div/div/div/input\")"
   ]
  },
  {
   "cell_type": "code",
   "execution_count": 48,
   "id": "f1154efe",
   "metadata": {},
   "outputs": [],
   "source": [
    "dg.send_keys('data analyst')"
   ]
  },
  {
   "cell_type": "code",
   "execution_count": 49,
   "id": "27601dd6",
   "metadata": {},
   "outputs": [],
   "source": [
    "loc=driver.find_element(By.XPATH,\"/html/body/div[1]/div[6]/div/div/div[5]/div/div/div/input\")"
   ]
  },
  {
   "cell_type": "code",
   "execution_count": 50,
   "id": "4badec04",
   "metadata": {},
   "outputs": [],
   "source": [
    "loc.send_keys('bangalore')"
   ]
  },
  {
   "cell_type": "code",
   "execution_count": 51,
   "id": "9c440925",
   "metadata": {},
   "outputs": [],
   "source": [
    "search=driver.find_element(By.XPATH,\"/html/body/div[1]/div[6]/div/div/div[6]\")"
   ]
  },
  {
   "cell_type": "code",
   "execution_count": 52,
   "id": "bcb28e98",
   "metadata": {},
   "outputs": [],
   "source": [
    "search.click()"
   ]
  },
  {
   "cell_type": "code",
   "execution_count": 54,
   "id": "a019eace",
   "metadata": {},
   "outputs": [],
   "source": [
    "jobtitle=[]\n",
    "jt=driver.find_elements(By.XPATH,'//a[@class=\"title ellipsis\"]')\n",
    "for i in jt:\n",
    "    jobtitle.append(i.text)"
   ]
  },
  {
   "cell_type": "code",
   "execution_count": 55,
   "id": "3f40b900",
   "metadata": {},
   "outputs": [
    {
     "data": {
      "text/plain": [
       "['Data Analyst / Senior Analyst - R / SQL / Python',\n",
       " 'Data Analyst/Senior Analyst - R/SQL/Python',\n",
       " 'Data Analyst',\n",
       " 'data analyst / data analytics - US MNC (analytics)',\n",
       " 'Business Data Analyst (Sr Exe / Asst Manager)',\n",
       " 'Junior Data Analyst/ Scientist- Fresher Position',\n",
       " 'Staff Data Analyst',\n",
       " 'Reference Data Analyst',\n",
       " 'Sr Data Analyst',\n",
       " 'Job Opportunity with Leading MNC - Senior Data Analyst',\n",
       " 'Manager/Senior Manager - Data Analyst',\n",
       " 'Data Analyst (Jr/Sr)',\n",
       " 'Junior Data Analyst',\n",
       " 'Data Analyst , Data Analytics',\n",
       " 'Data Analyst',\n",
       " 'Manager - Data Analyst',\n",
       " 'Data Analyst',\n",
       " 'Data Analyst',\n",
       " 'Immediate Hiring For MIS and Data Analyst',\n",
       " 'Immediate Hiring For Data Analyst - Technology consultant || Bangalore']"
      ]
     },
     "execution_count": 55,
     "metadata": {},
     "output_type": "execute_result"
    }
   ],
   "source": [
    "jobtitle"
   ]
  },
  {
   "cell_type": "code",
   "execution_count": 56,
   "id": "e078a4f3",
   "metadata": {},
   "outputs": [
    {
     "data": {
      "text/plain": [
       "20"
      ]
     },
     "execution_count": 56,
     "metadata": {},
     "output_type": "execute_result"
    }
   ],
   "source": [
    "len(jobtitle)"
   ]
  },
  {
   "cell_type": "code",
   "execution_count": 57,
   "id": "d77a1e96",
   "metadata": {},
   "outputs": [],
   "source": [
    "jobloc=[]\n",
    "jl=driver.find_elements(By.XPATH,'//span[@class=\"ellipsis fleft locWdth\"]')\n",
    "for i in jl:\n",
    "    jobloc.append(i.text)"
   ]
  },
  {
   "cell_type": "code",
   "execution_count": 58,
   "id": "bb9f9043",
   "metadata": {},
   "outputs": [
    {
     "data": {
      "text/plain": [
       "['Bangalore/Bengaluru, Kolkata, Mumbai, Hyderabad/Secunderabad, Lucknow, Chennai, Ahmedabad, Delhi / NCR',\n",
       " 'Temp. WFH - Bangalore/Bengaluru, Kolkata, Mumbai, Hyderabad/Secunderabad, Pune, Chennai, Ahmedabad, Delhi / NCR',\n",
       " 'Bangalore/Bengaluru',\n",
       " 'Temp. WFH - Bangalore/Bengaluru, Gurgaon/Gurugram',\n",
       " 'Bangalore/Bengaluru',\n",
       " 'Hybrid - Bangalore/Bengaluru, New Delhi, Mumbai (All Areas)',\n",
       " 'Bangalore/Bengaluru',\n",
       " 'Bangalore/Bengaluru',\n",
       " 'Hybrid - Bangalore/Bengaluru',\n",
       " 'Bangalore/Bengaluru',\n",
       " 'Bangalore/Bengaluru, Mumbai, Hyderabad/Secunderabad, Pune, Gurgaon/Gurugram, Ahmedabad, Jaipur, Delhi / NCR',\n",
       " 'Bangalore/Bengaluru',\n",
       " 'Bangalore/Bengaluru',\n",
       " 'Bangalore/Bengaluru',\n",
       " 'Bangalore/Bengaluru',\n",
       " 'Bangalore/Bengaluru, Gurgaon/Gurugram, Delhi / NCR',\n",
       " 'Bangalore/Bengaluru',\n",
       " 'Bangalore/Bengaluru',\n",
       " 'Bangalore/Bengaluru',\n",
       " 'Hybrid - Bangalore/Bengaluru']"
      ]
     },
     "execution_count": 58,
     "metadata": {},
     "output_type": "execute_result"
    }
   ],
   "source": [
    "jobloc"
   ]
  },
  {
   "cell_type": "code",
   "execution_count": 60,
   "id": "425c312b",
   "metadata": {},
   "outputs": [],
   "source": [
    "jobexp=[]\n",
    "je=driver.find_elements(By.XPATH,'//span[@class=\"ellipsis fleft expwdth\"]')\n",
    "for i in je:\n",
    "    jobexp.append(i.text)"
   ]
  },
  {
   "cell_type": "code",
   "execution_count": 61,
   "id": "a3641f65",
   "metadata": {},
   "outputs": [
    {
     "data": {
      "text/plain": [
       "['3-6 Yrs',\n",
       " '3-6 Yrs',\n",
       " '2-4 Yrs',\n",
       " '3-8 Yrs',\n",
       " '3-5 Yrs',\n",
       " '0-5 Yrs',\n",
       " '10-14 Yrs',\n",
       " '6-8 Yrs',\n",
       " '6-9 Yrs',\n",
       " '5-7 Yrs',\n",
       " '2-7 Yrs',\n",
       " '1-4 Yrs',\n",
       " '0-1 Yrs',\n",
       " '3-8 Yrs',\n",
       " '2-5 Yrs',\n",
       " '3-8 Yrs',\n",
       " '7-9 Yrs',\n",
       " '1-4 Yrs',\n",
       " '1-6 Yrs',\n",
       " '5-10 Yrs']"
      ]
     },
     "execution_count": 61,
     "metadata": {},
     "output_type": "execute_result"
    }
   ],
   "source": [
    "jobexp"
   ]
  },
  {
   "cell_type": "code",
   "execution_count": 64,
   "id": "75c21cb0",
   "metadata": {},
   "outputs": [],
   "source": [
    "gg=pd.DataFrame({'location':jobloc,'experence':jobexp,'title':jobtitle,})"
   ]
  },
  {
   "cell_type": "code",
   "execution_count": 65,
   "id": "7afc6fc8",
   "metadata": {},
   "outputs": [
    {
     "data": {
      "text/html": [
       "<div>\n",
       "<style scoped>\n",
       "    .dataframe tbody tr th:only-of-type {\n",
       "        vertical-align: middle;\n",
       "    }\n",
       "\n",
       "    .dataframe tbody tr th {\n",
       "        vertical-align: top;\n",
       "    }\n",
       "\n",
       "    .dataframe thead th {\n",
       "        text-align: right;\n",
       "    }\n",
       "</style>\n",
       "<table border=\"1\" class=\"dataframe\">\n",
       "  <thead>\n",
       "    <tr style=\"text-align: right;\">\n",
       "      <th></th>\n",
       "      <th>location</th>\n",
       "      <th>experence</th>\n",
       "      <th>title</th>\n",
       "    </tr>\n",
       "  </thead>\n",
       "  <tbody>\n",
       "    <tr>\n",
       "      <th>0</th>\n",
       "      <td>Bangalore/Bengaluru, Kolkata, Mumbai, Hyderaba...</td>\n",
       "      <td>3-6 Yrs</td>\n",
       "      <td>Data Analyst / Senior Analyst - R / SQL / Python</td>\n",
       "    </tr>\n",
       "    <tr>\n",
       "      <th>1</th>\n",
       "      <td>Temp. WFH - Bangalore/Bengaluru, Kolkata, Mumb...</td>\n",
       "      <td>3-6 Yrs</td>\n",
       "      <td>Data Analyst/Senior Analyst - R/SQL/Python</td>\n",
       "    </tr>\n",
       "    <tr>\n",
       "      <th>2</th>\n",
       "      <td>Bangalore/Bengaluru</td>\n",
       "      <td>2-4 Yrs</td>\n",
       "      <td>Data Analyst</td>\n",
       "    </tr>\n",
       "    <tr>\n",
       "      <th>3</th>\n",
       "      <td>Temp. WFH - Bangalore/Bengaluru, Gurgaon/Gurugram</td>\n",
       "      <td>3-8 Yrs</td>\n",
       "      <td>data analyst / data analytics - US MNC (analyt...</td>\n",
       "    </tr>\n",
       "    <tr>\n",
       "      <th>4</th>\n",
       "      <td>Bangalore/Bengaluru</td>\n",
       "      <td>3-5 Yrs</td>\n",
       "      <td>Business Data Analyst (Sr Exe / Asst Manager)</td>\n",
       "    </tr>\n",
       "    <tr>\n",
       "      <th>5</th>\n",
       "      <td>Hybrid - Bangalore/Bengaluru, New Delhi, Mumba...</td>\n",
       "      <td>0-5 Yrs</td>\n",
       "      <td>Junior Data Analyst/ Scientist- Fresher Position</td>\n",
       "    </tr>\n",
       "    <tr>\n",
       "      <th>6</th>\n",
       "      <td>Bangalore/Bengaluru</td>\n",
       "      <td>10-14 Yrs</td>\n",
       "      <td>Staff Data Analyst</td>\n",
       "    </tr>\n",
       "    <tr>\n",
       "      <th>7</th>\n",
       "      <td>Bangalore/Bengaluru</td>\n",
       "      <td>6-8 Yrs</td>\n",
       "      <td>Reference Data Analyst</td>\n",
       "    </tr>\n",
       "    <tr>\n",
       "      <th>8</th>\n",
       "      <td>Hybrid - Bangalore/Bengaluru</td>\n",
       "      <td>6-9 Yrs</td>\n",
       "      <td>Sr Data Analyst</td>\n",
       "    </tr>\n",
       "    <tr>\n",
       "      <th>9</th>\n",
       "      <td>Bangalore/Bengaluru</td>\n",
       "      <td>5-7 Yrs</td>\n",
       "      <td>Job Opportunity with Leading MNC - Senior Data...</td>\n",
       "    </tr>\n",
       "    <tr>\n",
       "      <th>10</th>\n",
       "      <td>Bangalore/Bengaluru, Mumbai, Hyderabad/Secunde...</td>\n",
       "      <td>2-7 Yrs</td>\n",
       "      <td>Manager/Senior Manager - Data Analyst</td>\n",
       "    </tr>\n",
       "    <tr>\n",
       "      <th>11</th>\n",
       "      <td>Bangalore/Bengaluru</td>\n",
       "      <td>1-4 Yrs</td>\n",
       "      <td>Data Analyst (Jr/Sr)</td>\n",
       "    </tr>\n",
       "    <tr>\n",
       "      <th>12</th>\n",
       "      <td>Bangalore/Bengaluru</td>\n",
       "      <td>0-1 Yrs</td>\n",
       "      <td>Junior Data Analyst</td>\n",
       "    </tr>\n",
       "    <tr>\n",
       "      <th>13</th>\n",
       "      <td>Bangalore/Bengaluru</td>\n",
       "      <td>3-8 Yrs</td>\n",
       "      <td>Data Analyst , Data Analytics</td>\n",
       "    </tr>\n",
       "    <tr>\n",
       "      <th>14</th>\n",
       "      <td>Bangalore/Bengaluru</td>\n",
       "      <td>2-5 Yrs</td>\n",
       "      <td>Data Analyst</td>\n",
       "    </tr>\n",
       "    <tr>\n",
       "      <th>15</th>\n",
       "      <td>Bangalore/Bengaluru, Gurgaon/Gurugram, Delhi /...</td>\n",
       "      <td>3-8 Yrs</td>\n",
       "      <td>Manager - Data Analyst</td>\n",
       "    </tr>\n",
       "    <tr>\n",
       "      <th>16</th>\n",
       "      <td>Bangalore/Bengaluru</td>\n",
       "      <td>7-9 Yrs</td>\n",
       "      <td>Data Analyst</td>\n",
       "    </tr>\n",
       "    <tr>\n",
       "      <th>17</th>\n",
       "      <td>Bangalore/Bengaluru</td>\n",
       "      <td>1-4 Yrs</td>\n",
       "      <td>Data Analyst</td>\n",
       "    </tr>\n",
       "    <tr>\n",
       "      <th>18</th>\n",
       "      <td>Bangalore/Bengaluru</td>\n",
       "      <td>1-6 Yrs</td>\n",
       "      <td>Immediate Hiring For MIS and Data Analyst</td>\n",
       "    </tr>\n",
       "    <tr>\n",
       "      <th>19</th>\n",
       "      <td>Hybrid - Bangalore/Bengaluru</td>\n",
       "      <td>5-10 Yrs</td>\n",
       "      <td>Immediate Hiring For Data Analyst - Technology...</td>\n",
       "    </tr>\n",
       "  </tbody>\n",
       "</table>\n",
       "</div>"
      ],
      "text/plain": [
       "                                             location  experence  \\\n",
       "0   Bangalore/Bengaluru, Kolkata, Mumbai, Hyderaba...    3-6 Yrs   \n",
       "1   Temp. WFH - Bangalore/Bengaluru, Kolkata, Mumb...    3-6 Yrs   \n",
       "2                                 Bangalore/Bengaluru    2-4 Yrs   \n",
       "3   Temp. WFH - Bangalore/Bengaluru, Gurgaon/Gurugram    3-8 Yrs   \n",
       "4                                 Bangalore/Bengaluru    3-5 Yrs   \n",
       "5   Hybrid - Bangalore/Bengaluru, New Delhi, Mumba...    0-5 Yrs   \n",
       "6                                 Bangalore/Bengaluru  10-14 Yrs   \n",
       "7                                 Bangalore/Bengaluru    6-8 Yrs   \n",
       "8                        Hybrid - Bangalore/Bengaluru    6-9 Yrs   \n",
       "9                                 Bangalore/Bengaluru    5-7 Yrs   \n",
       "10  Bangalore/Bengaluru, Mumbai, Hyderabad/Secunde...    2-7 Yrs   \n",
       "11                                Bangalore/Bengaluru    1-4 Yrs   \n",
       "12                                Bangalore/Bengaluru    0-1 Yrs   \n",
       "13                                Bangalore/Bengaluru    3-8 Yrs   \n",
       "14                                Bangalore/Bengaluru    2-5 Yrs   \n",
       "15  Bangalore/Bengaluru, Gurgaon/Gurugram, Delhi /...    3-8 Yrs   \n",
       "16                                Bangalore/Bengaluru    7-9 Yrs   \n",
       "17                                Bangalore/Bengaluru    1-4 Yrs   \n",
       "18                                Bangalore/Bengaluru    1-6 Yrs   \n",
       "19                       Hybrid - Bangalore/Bengaluru   5-10 Yrs   \n",
       "\n",
       "                                                title  \n",
       "0    Data Analyst / Senior Analyst - R / SQL / Python  \n",
       "1          Data Analyst/Senior Analyst - R/SQL/Python  \n",
       "2                                        Data Analyst  \n",
       "3   data analyst / data analytics - US MNC (analyt...  \n",
       "4       Business Data Analyst (Sr Exe / Asst Manager)  \n",
       "5    Junior Data Analyst/ Scientist- Fresher Position  \n",
       "6                                  Staff Data Analyst  \n",
       "7                              Reference Data Analyst  \n",
       "8                                     Sr Data Analyst  \n",
       "9   Job Opportunity with Leading MNC - Senior Data...  \n",
       "10              Manager/Senior Manager - Data Analyst  \n",
       "11                               Data Analyst (Jr/Sr)  \n",
       "12                                Junior Data Analyst  \n",
       "13                      Data Analyst , Data Analytics  \n",
       "14                                       Data Analyst  \n",
       "15                             Manager - Data Analyst  \n",
       "16                                       Data Analyst  \n",
       "17                                       Data Analyst  \n",
       "18          Immediate Hiring For MIS and Data Analyst  \n",
       "19  Immediate Hiring For Data Analyst - Technology...  "
      ]
     },
     "execution_count": 65,
     "metadata": {},
     "output_type": "execute_result"
    }
   ],
   "source": [
    "gg"
   ]
  },
  {
   "cell_type": "code",
   "execution_count": null,
   "id": "0a9b3d72",
   "metadata": {},
   "outputs": [],
   "source": []
  }
 ],
 "metadata": {
  "kernelspec": {
   "display_name": "Python 3 (ipykernel)",
   "language": "python",
   "name": "python3"
  },
  "language_info": {
   "codemirror_mode": {
    "name": "ipython",
    "version": 3
   },
   "file_extension": ".py",
   "mimetype": "text/x-python",
   "name": "python",
   "nbconvert_exporter": "python",
   "pygments_lexer": "ipython3",
   "version": "3.9.12"
  }
 },
 "nbformat": 4,
 "nbformat_minor": 5
}
